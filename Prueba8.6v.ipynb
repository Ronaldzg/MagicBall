{
 "cells": [
  {
   "cell_type": "code",
   "execution_count": 13,
   "id": "dfc5ba85",
   "metadata": {
    "scrolled": true
   },
   "outputs": [
    {
     "ename": "SyntaxError",
     "evalue": "invalid syntax (81211239.py, line 1)",
     "output_type": "error",
     "traceback": [
      "\u001b[1;36m  Cell \u001b[1;32mIn[13], line 1\u001b[1;36m\u001b[0m\n\u001b[1;33m    pip install selenium\u001b[0m\n\u001b[1;37m        ^\u001b[0m\n\u001b[1;31mSyntaxError\u001b[0m\u001b[1;31m:\u001b[0m invalid syntax\n"
     ]
    }
   ],
   "source": [
    "pip install selenium\n",
    "pip install webdriver-manager"
   ]
  },
  {
   "cell_type": "markdown",
   "id": "a4bdd40a",
   "metadata": {},
   "source": []
  },
  {
   "cell_type": "code",
   "execution_count": 3,
   "id": "e0eebbe4",
   "metadata": {},
   "outputs": [],
   "source": [
    "from selenium import webdriver\n",
    "from selenium.webdriver.chrome.options import Options#selecciona elementos de selenium\n",
    "from webdriver_manager.chrome import ChromeDriverManager #actualizar automaticamente el chrome y su version\n",
    "from selenium.webdriver.common.by import By # localizar elementos en una página web (botones y texto),XPATH\n",
    "from time import sleep # pausar segmento del codigo por determinados segundos\n",
    "from unicodedata import name\n",
    "from selenium.webdriver.common.keys import Keys # para ingresar clicks y tecla enter\n",
    "\n",
    "import urllib.request\n",
    "import requests # peticiones web\n",
    "import ssl #certificados de seguridad\n",
    "\n"
   ]
  },
  {
   "cell_type": "code",
   "execution_count": 4,
   "id": "d12b87d0",
   "metadata": {},
   "outputs": [],
   "source": [
    "# Creacion de Opciones\n",
    "options = Options()\n",
    "# Ruta\n",
    "options.binary_location = \"C:/Program Files (x86)/Google/Chrome/Application/chrome.exe\"\n",
    "# Ejecucion en Incognito\n",
    "options.add_argument(\"--incognito\")"
   ]
  },
  {
   "cell_type": "code",
   "execution_count": 6,
   "id": "e571412a",
   "metadata": {},
   "outputs": [
    {
     "name": "stderr",
     "output_type": "stream",
     "text": [
      "C:\\Users\\LENOVO\\AppData\\Local\\Temp/ipykernel_9688/3608948827.py:2: DeprecationWarning: executable_path has been deprecated, please pass in a Service object\n",
      "  driver = webdriver.Chrome(ChromeDriverManager().install(), options=options)\n"
     ]
    }
   ],
   "source": [
    "# ejecutar chrome desde tu carpeta contenedora\n",
    "driver = webdriver.Chrome(ChromeDriverManager().install(), options=options)\n",
    "# Acceder a pagina de Instagram\n",
    "# URL\n",
    "driver.get(\"https://www.instagram.com/\")\n",
    "# tiempo de espera de inicio de bot\n",
    "sleep(1)"
   ]
  },
  {
   "cell_type": "code",
   "execution_count": 7,
   "id": "265f5a66",
   "metadata": {
    "scrolled": true
   },
   "outputs": [],
   "source": [
    "username_input = driver.find_element(By.XPATH,'//*[@id=\"loginForm\"]/div/div[1]/div/label/input')\n",
    "password_input = driver.find_element(By.XPATH,'//*[@id=\"loginForm\"]/div/div[2]/div/label/input')"
   ]
  },
  {
   "cell_type": "code",
   "execution_count": 8,
   "id": "57c5a99c",
   "metadata": {},
   "outputs": [],
   "source": [
    "# Username, Password\n",
    "# Leer las credenciales del archivo creado para que no aparezca en pantalla\n",
    "#solo por estetica y privacidad \n",
    "with open(\"C:/Users/LENOVO/Desktop/python en instagram/credentials.txt\", \"r\") as file:\n",
    "    credentials = file.readlines()\n",
    "\n",
    "# Procesar las credenciales\n",
    "username = credentials[0].strip().split(\":\")[1]\n",
    "password = credentials[1].strip().split(\":\")[1]\n",
    "\n",
    "\n",
    "sleep(3)\n",
    "\n",
    "# Utilizar las credenciales\n",
    "username_input.send_keys(username)\n",
    "password_input.send_keys(password)"
   ]
  },
  {
   "cell_type": "code",
   "execution_count": 9,
   "id": "718ad1c6",
   "metadata": {
    "scrolled": false
   },
   "outputs": [],
   "source": [
    "#click del boton login\n",
    "login_button = driver.find_element(By.XPATH,'//*[@id=\"loginForm\"]/div/div[3]')\n",
    "login_button.click()\n",
    "sleep(1)"
   ]
  },
  {
   "cell_type": "code",
   "execution_count": 10,
   "id": "6c747f1a",
   "metadata": {
    "scrolled": false
   },
   "outputs": [],
   "source": [
    "# skip de la notificacion  1\n",
    "no1 = driver.find_element(By.XPATH,'//div[contains(text(),\"Ahora no\")]')\n",
    "no1.click()\n",
    "sleep(1)"
   ]
  },
  {
   "cell_type": "code",
   "execution_count": 11,
   "id": "dcab7da3",
   "metadata": {},
   "outputs": [],
   "source": [
    "# skip de la notificacion 2\n",
    "no2 = driver.find_element(By.XPATH,'//button[contains(text(),\"Ahora no\")]')\n",
    "no2.click()\n",
    "sleep(1)"
   ]
  },
  {
   "cell_type": "code",
   "execution_count": 14,
   "id": "44766268",
   "metadata": {},
   "outputs": [],
   "source": [
    "#acceder a la ventana de busqueda de perfil y \n",
    "#seleccionar un perfil objetivo\n",
    "sleep(1)\n",
    "searchbox1 = driver.find_element(\n",
    "    \"css selector\", \"svg[aria-label='Búsqueda']\").click()\n",
    "sleep(1)\n",
    "searchbox = driver.find_element(\"css selector\", \"input[placeholder='Busca']\")\n",
    "searchbox.clear()\n",
    "#ingresar el perfil del cual queremos obtener los datos\n",
    "searchbox.send_keys(\"muskariabanda\")\n",
    "sleep(1)\n",
    "searchbox.send_keys(Keys.ENTER)\n",
    "sleep(1)\n",
    "searchbox.send_keys(Keys.ENTER)\n",
    "sleep(1)"
   ]
  },
  {
   "cell_type": "code",
   "execution_count": 15,
   "id": "05b2418f",
   "metadata": {},
   "outputs": [],
   "source": [
    "# Scroll si necesitas realizar acciones adicionales en la página después de hacer scroll hacia abajo,\n",
    "#como interactuar con elementos que se encuentran más abajo en la página.\n",
    "scrolldown = driver.execute_script(\n",
    "    \"window.scrollTo(0, document.body.scrollHeight);var scrolldown=document.body.scrollHeight;return scrolldown;\")\n",
    "match = False\n",
    "while (match == False):\n",
    "    last_count = scrolldown\n",
    "    sleep(3)\n",
    "    scrolldown = driver.execute_script(\n",
    "        \"window.scrollTo(0, document.body.scrollHeight);var scrolldown=document.body.scrollHeight;return scrolldown;\")\n",
    "    if last_count == scrolldown:\n",
    "        match = True\n"
   ]
  },
  {
   "cell_type": "code",
   "execution_count": 16,
   "id": "532489f7",
   "metadata": {},
   "outputs": [
    {
     "name": "stdout",
     "output_type": "stream",
     "text": [
      "[]\n",
      "[]\n",
      "[]\n",
      "[]\n",
      "[]\n",
      "[]\n",
      "[]\n",
      "[]\n",
      "[]\n",
      "[]\n",
      "[]\n",
      "[]\n",
      "[]\n",
      "[]\n",
      "[]\n",
      "[]\n",
      "[]\n",
      "['https://www.instagram.com/p/CpF41OmuKJf/']\n",
      "['https://www.instagram.com/p/CpF41OmuKJf/', 'https://www.instagram.com/p/CpDX01DuhC5/']\n",
      "['https://www.instagram.com/p/CpF41OmuKJf/', 'https://www.instagram.com/p/CpDX01DuhC5/', 'https://www.instagram.com/p/CpBZTtDud2L/']\n",
      "['https://www.instagram.com/p/CpF41OmuKJf/', 'https://www.instagram.com/p/CpDX01DuhC5/', 'https://www.instagram.com/p/CpBZTtDud2L/', 'https://www.instagram.com/p/Co-2cfJuK7N/']\n",
      "['https://www.instagram.com/p/CpF41OmuKJf/', 'https://www.instagram.com/p/CpDX01DuhC5/', 'https://www.instagram.com/p/CpBZTtDud2L/', 'https://www.instagram.com/p/Co-2cfJuK7N/', 'https://www.instagram.com/p/CogC6a6uAaQ/']\n",
      "['https://www.instagram.com/p/CpF41OmuKJf/', 'https://www.instagram.com/p/CpDX01DuhC5/', 'https://www.instagram.com/p/CpBZTtDud2L/', 'https://www.instagram.com/p/Co-2cfJuK7N/', 'https://www.instagram.com/p/CogC6a6uAaQ/', 'https://www.instagram.com/p/CoKmagQukOb/']\n",
      "['https://www.instagram.com/p/CpF41OmuKJf/', 'https://www.instagram.com/p/CpDX01DuhC5/', 'https://www.instagram.com/p/CpBZTtDud2L/', 'https://www.instagram.com/p/Co-2cfJuK7N/', 'https://www.instagram.com/p/CogC6a6uAaQ/', 'https://www.instagram.com/p/CoKmagQukOb/', 'https://www.instagram.com/p/CnvO5nTjT1q/']\n",
      "['https://www.instagram.com/p/CpF41OmuKJf/', 'https://www.instagram.com/p/CpDX01DuhC5/', 'https://www.instagram.com/p/CpBZTtDud2L/', 'https://www.instagram.com/p/Co-2cfJuK7N/', 'https://www.instagram.com/p/CogC6a6uAaQ/', 'https://www.instagram.com/p/CoKmagQukOb/', 'https://www.instagram.com/p/CnvO5nTjT1q/', 'https://www.instagram.com/p/Cnu9Vk2D-4N/']\n",
      "['https://www.instagram.com/p/CpF41OmuKJf/', 'https://www.instagram.com/p/CpDX01DuhC5/', 'https://www.instagram.com/p/CpBZTtDud2L/', 'https://www.instagram.com/p/Co-2cfJuK7N/', 'https://www.instagram.com/p/CogC6a6uAaQ/', 'https://www.instagram.com/p/CoKmagQukOb/', 'https://www.instagram.com/p/CnvO5nTjT1q/', 'https://www.instagram.com/p/Cnu9Vk2D-4N/', 'https://www.instagram.com/p/CnaUAKyjHKk/']\n",
      "['https://www.instagram.com/p/CpF41OmuKJf/', 'https://www.instagram.com/p/CpDX01DuhC5/', 'https://www.instagram.com/p/CpBZTtDud2L/', 'https://www.instagram.com/p/Co-2cfJuK7N/', 'https://www.instagram.com/p/CogC6a6uAaQ/', 'https://www.instagram.com/p/CoKmagQukOb/', 'https://www.instagram.com/p/CnvO5nTjT1q/', 'https://www.instagram.com/p/Cnu9Vk2D-4N/', 'https://www.instagram.com/p/CnaUAKyjHKk/', 'https://www.instagram.com/p/Cm949TouwXP/']\n",
      "['https://www.instagram.com/p/CpF41OmuKJf/', 'https://www.instagram.com/p/CpDX01DuhC5/', 'https://www.instagram.com/p/CpBZTtDud2L/', 'https://www.instagram.com/p/Co-2cfJuK7N/', 'https://www.instagram.com/p/CogC6a6uAaQ/', 'https://www.instagram.com/p/CoKmagQukOb/', 'https://www.instagram.com/p/CnvO5nTjT1q/', 'https://www.instagram.com/p/Cnu9Vk2D-4N/', 'https://www.instagram.com/p/CnaUAKyjHKk/', 'https://www.instagram.com/p/Cm949TouwXP/', 'https://www.instagram.com/p/Cmwl6SiD9kM/']\n",
      "['https://www.instagram.com/p/CpF41OmuKJf/', 'https://www.instagram.com/p/CpDX01DuhC5/', 'https://www.instagram.com/p/CpBZTtDud2L/', 'https://www.instagram.com/p/Co-2cfJuK7N/', 'https://www.instagram.com/p/CogC6a6uAaQ/', 'https://www.instagram.com/p/CoKmagQukOb/', 'https://www.instagram.com/p/CnvO5nTjT1q/', 'https://www.instagram.com/p/Cnu9Vk2D-4N/', 'https://www.instagram.com/p/CnaUAKyjHKk/', 'https://www.instagram.com/p/Cm949TouwXP/', 'https://www.instagram.com/p/Cmwl6SiD9kM/', 'https://www.instagram.com/p/CmwirNfu8y2/']\n",
      "['https://www.instagram.com/p/CpF41OmuKJf/', 'https://www.instagram.com/p/CpDX01DuhC5/', 'https://www.instagram.com/p/CpBZTtDud2L/', 'https://www.instagram.com/p/Co-2cfJuK7N/', 'https://www.instagram.com/p/CogC6a6uAaQ/', 'https://www.instagram.com/p/CoKmagQukOb/', 'https://www.instagram.com/p/CnvO5nTjT1q/', 'https://www.instagram.com/p/Cnu9Vk2D-4N/', 'https://www.instagram.com/p/CnaUAKyjHKk/', 'https://www.instagram.com/p/Cm949TouwXP/', 'https://www.instagram.com/p/Cmwl6SiD9kM/', 'https://www.instagram.com/p/CmwirNfu8y2/', 'https://www.instagram.com/p/Clbhn8OugvO/']\n",
      "['https://www.instagram.com/p/CpF41OmuKJf/', 'https://www.instagram.com/p/CpDX01DuhC5/', 'https://www.instagram.com/p/CpBZTtDud2L/', 'https://www.instagram.com/p/Co-2cfJuK7N/', 'https://www.instagram.com/p/CogC6a6uAaQ/', 'https://www.instagram.com/p/CoKmagQukOb/', 'https://www.instagram.com/p/CnvO5nTjT1q/', 'https://www.instagram.com/p/Cnu9Vk2D-4N/', 'https://www.instagram.com/p/CnaUAKyjHKk/', 'https://www.instagram.com/p/Cm949TouwXP/', 'https://www.instagram.com/p/Cmwl6SiD9kM/', 'https://www.instagram.com/p/CmwirNfu8y2/', 'https://www.instagram.com/p/Clbhn8OugvO/', 'https://www.instagram.com/p/Ck_67leBHdk/']\n",
      "['https://www.instagram.com/p/CpF41OmuKJf/', 'https://www.instagram.com/p/CpDX01DuhC5/', 'https://www.instagram.com/p/CpBZTtDud2L/', 'https://www.instagram.com/p/Co-2cfJuK7N/', 'https://www.instagram.com/p/CogC6a6uAaQ/', 'https://www.instagram.com/p/CoKmagQukOb/', 'https://www.instagram.com/p/CnvO5nTjT1q/', 'https://www.instagram.com/p/Cnu9Vk2D-4N/', 'https://www.instagram.com/p/CnaUAKyjHKk/', 'https://www.instagram.com/p/Cm949TouwXP/', 'https://www.instagram.com/p/Cmwl6SiD9kM/', 'https://www.instagram.com/p/CmwirNfu8y2/', 'https://www.instagram.com/p/Clbhn8OugvO/', 'https://www.instagram.com/p/Ck_67leBHdk/', 'https://www.instagram.com/p/Cj5YF42OcM7/']\n",
      "['https://www.instagram.com/p/CpF41OmuKJf/', 'https://www.instagram.com/p/CpDX01DuhC5/', 'https://www.instagram.com/p/CpBZTtDud2L/', 'https://www.instagram.com/p/Co-2cfJuK7N/', 'https://www.instagram.com/p/CogC6a6uAaQ/', 'https://www.instagram.com/p/CoKmagQukOb/', 'https://www.instagram.com/p/CnvO5nTjT1q/', 'https://www.instagram.com/p/Cnu9Vk2D-4N/', 'https://www.instagram.com/p/CnaUAKyjHKk/', 'https://www.instagram.com/p/Cm949TouwXP/', 'https://www.instagram.com/p/Cmwl6SiD9kM/', 'https://www.instagram.com/p/CmwirNfu8y2/', 'https://www.instagram.com/p/Clbhn8OugvO/', 'https://www.instagram.com/p/Ck_67leBHdk/', 'https://www.instagram.com/p/Cj5YF42OcM7/', 'https://www.instagram.com/p/CjyBqQ3OHbM/']\n",
      "['https://www.instagram.com/p/CpF41OmuKJf/', 'https://www.instagram.com/p/CpDX01DuhC5/', 'https://www.instagram.com/p/CpBZTtDud2L/', 'https://www.instagram.com/p/Co-2cfJuK7N/', 'https://www.instagram.com/p/CogC6a6uAaQ/', 'https://www.instagram.com/p/CoKmagQukOb/', 'https://www.instagram.com/p/CnvO5nTjT1q/', 'https://www.instagram.com/p/Cnu9Vk2D-4N/', 'https://www.instagram.com/p/CnaUAKyjHKk/', 'https://www.instagram.com/p/Cm949TouwXP/', 'https://www.instagram.com/p/Cmwl6SiD9kM/', 'https://www.instagram.com/p/CmwirNfu8y2/', 'https://www.instagram.com/p/Clbhn8OugvO/', 'https://www.instagram.com/p/Ck_67leBHdk/', 'https://www.instagram.com/p/Cj5YF42OcM7/', 'https://www.instagram.com/p/CjyBqQ3OHbM/', 'https://www.instagram.com/p/Cjit5NRJlh7/']\n",
      "['https://www.instagram.com/p/CpF41OmuKJf/', 'https://www.instagram.com/p/CpDX01DuhC5/', 'https://www.instagram.com/p/CpBZTtDud2L/', 'https://www.instagram.com/p/Co-2cfJuK7N/', 'https://www.instagram.com/p/CogC6a6uAaQ/', 'https://www.instagram.com/p/CoKmagQukOb/', 'https://www.instagram.com/p/CnvO5nTjT1q/', 'https://www.instagram.com/p/Cnu9Vk2D-4N/', 'https://www.instagram.com/p/CnaUAKyjHKk/', 'https://www.instagram.com/p/Cm949TouwXP/', 'https://www.instagram.com/p/Cmwl6SiD9kM/', 'https://www.instagram.com/p/CmwirNfu8y2/', 'https://www.instagram.com/p/Clbhn8OugvO/', 'https://www.instagram.com/p/Ck_67leBHdk/', 'https://www.instagram.com/p/Cj5YF42OcM7/', 'https://www.instagram.com/p/CjyBqQ3OHbM/', 'https://www.instagram.com/p/Cjit5NRJlh7/', 'https://www.instagram.com/p/CjitnKKJlOY/']\n",
      "['https://www.instagram.com/p/CpF41OmuKJf/', 'https://www.instagram.com/p/CpDX01DuhC5/', 'https://www.instagram.com/p/CpBZTtDud2L/', 'https://www.instagram.com/p/Co-2cfJuK7N/', 'https://www.instagram.com/p/CogC6a6uAaQ/', 'https://www.instagram.com/p/CoKmagQukOb/', 'https://www.instagram.com/p/CnvO5nTjT1q/', 'https://www.instagram.com/p/Cnu9Vk2D-4N/', 'https://www.instagram.com/p/CnaUAKyjHKk/', 'https://www.instagram.com/p/Cm949TouwXP/', 'https://www.instagram.com/p/Cmwl6SiD9kM/', 'https://www.instagram.com/p/CmwirNfu8y2/', 'https://www.instagram.com/p/Clbhn8OugvO/', 'https://www.instagram.com/p/Ck_67leBHdk/', 'https://www.instagram.com/p/Cj5YF42OcM7/', 'https://www.instagram.com/p/CjyBqQ3OHbM/', 'https://www.instagram.com/p/Cjit5NRJlh7/', 'https://www.instagram.com/p/CjitnKKJlOY/', 'https://www.instagram.com/p/CjisT1oJsME/']\n",
      "['https://www.instagram.com/p/CpF41OmuKJf/', 'https://www.instagram.com/p/CpDX01DuhC5/', 'https://www.instagram.com/p/CpBZTtDud2L/', 'https://www.instagram.com/p/Co-2cfJuK7N/', 'https://www.instagram.com/p/CogC6a6uAaQ/', 'https://www.instagram.com/p/CoKmagQukOb/', 'https://www.instagram.com/p/CnvO5nTjT1q/', 'https://www.instagram.com/p/Cnu9Vk2D-4N/', 'https://www.instagram.com/p/CnaUAKyjHKk/', 'https://www.instagram.com/p/Cm949TouwXP/', 'https://www.instagram.com/p/Cmwl6SiD9kM/', 'https://www.instagram.com/p/CmwirNfu8y2/', 'https://www.instagram.com/p/Clbhn8OugvO/', 'https://www.instagram.com/p/Ck_67leBHdk/', 'https://www.instagram.com/p/Cj5YF42OcM7/', 'https://www.instagram.com/p/CjyBqQ3OHbM/', 'https://www.instagram.com/p/Cjit5NRJlh7/', 'https://www.instagram.com/p/CjitnKKJlOY/', 'https://www.instagram.com/p/CjisT1oJsME/', 'https://www.instagram.com/p/CjirqNwp3oS/']\n",
      "['https://www.instagram.com/p/CpF41OmuKJf/', 'https://www.instagram.com/p/CpDX01DuhC5/', 'https://www.instagram.com/p/CpBZTtDud2L/', 'https://www.instagram.com/p/Co-2cfJuK7N/', 'https://www.instagram.com/p/CogC6a6uAaQ/', 'https://www.instagram.com/p/CoKmagQukOb/', 'https://www.instagram.com/p/CnvO5nTjT1q/', 'https://www.instagram.com/p/Cnu9Vk2D-4N/', 'https://www.instagram.com/p/CnaUAKyjHKk/', 'https://www.instagram.com/p/Cm949TouwXP/', 'https://www.instagram.com/p/Cmwl6SiD9kM/', 'https://www.instagram.com/p/CmwirNfu8y2/', 'https://www.instagram.com/p/Clbhn8OugvO/', 'https://www.instagram.com/p/Ck_67leBHdk/', 'https://www.instagram.com/p/Cj5YF42OcM7/', 'https://www.instagram.com/p/CjyBqQ3OHbM/', 'https://www.instagram.com/p/Cjit5NRJlh7/', 'https://www.instagram.com/p/CjitnKKJlOY/', 'https://www.instagram.com/p/CjisT1oJsME/', 'https://www.instagram.com/p/CjirqNwp3oS/', 'https://www.instagram.com/p/CjeZDNkONU0/']\n",
      "['https://www.instagram.com/p/CpF41OmuKJf/', 'https://www.instagram.com/p/CpDX01DuhC5/', 'https://www.instagram.com/p/CpBZTtDud2L/', 'https://www.instagram.com/p/Co-2cfJuK7N/', 'https://www.instagram.com/p/CogC6a6uAaQ/', 'https://www.instagram.com/p/CoKmagQukOb/', 'https://www.instagram.com/p/CnvO5nTjT1q/', 'https://www.instagram.com/p/Cnu9Vk2D-4N/', 'https://www.instagram.com/p/CnaUAKyjHKk/', 'https://www.instagram.com/p/Cm949TouwXP/', 'https://www.instagram.com/p/Cmwl6SiD9kM/', 'https://www.instagram.com/p/CmwirNfu8y2/', 'https://www.instagram.com/p/Clbhn8OugvO/', 'https://www.instagram.com/p/Ck_67leBHdk/', 'https://www.instagram.com/p/Cj5YF42OcM7/', 'https://www.instagram.com/p/CjyBqQ3OHbM/', 'https://www.instagram.com/p/Cjit5NRJlh7/', 'https://www.instagram.com/p/CjitnKKJlOY/', 'https://www.instagram.com/p/CjisT1oJsME/', 'https://www.instagram.com/p/CjirqNwp3oS/', 'https://www.instagram.com/p/CjeZDNkONU0/', 'https://www.instagram.com/p/CjNy9yCuodI/']\n",
      "['https://www.instagram.com/p/CpF41OmuKJf/', 'https://www.instagram.com/p/CpDX01DuhC5/', 'https://www.instagram.com/p/CpBZTtDud2L/', 'https://www.instagram.com/p/Co-2cfJuK7N/', 'https://www.instagram.com/p/CogC6a6uAaQ/', 'https://www.instagram.com/p/CoKmagQukOb/', 'https://www.instagram.com/p/CnvO5nTjT1q/', 'https://www.instagram.com/p/Cnu9Vk2D-4N/', 'https://www.instagram.com/p/CnaUAKyjHKk/', 'https://www.instagram.com/p/Cm949TouwXP/', 'https://www.instagram.com/p/Cmwl6SiD9kM/', 'https://www.instagram.com/p/CmwirNfu8y2/', 'https://www.instagram.com/p/Clbhn8OugvO/', 'https://www.instagram.com/p/Ck_67leBHdk/', 'https://www.instagram.com/p/Cj5YF42OcM7/', 'https://www.instagram.com/p/CjyBqQ3OHbM/', 'https://www.instagram.com/p/Cjit5NRJlh7/', 'https://www.instagram.com/p/CjitnKKJlOY/', 'https://www.instagram.com/p/CjisT1oJsME/', 'https://www.instagram.com/p/CjirqNwp3oS/', 'https://www.instagram.com/p/CjeZDNkONU0/', 'https://www.instagram.com/p/CjNy9yCuodI/', 'https://www.instagram.com/p/CiJVkgXOlIM/']\n",
      "['https://www.instagram.com/p/CpF41OmuKJf/', 'https://www.instagram.com/p/CpDX01DuhC5/', 'https://www.instagram.com/p/CpBZTtDud2L/', 'https://www.instagram.com/p/Co-2cfJuK7N/', 'https://www.instagram.com/p/CogC6a6uAaQ/', 'https://www.instagram.com/p/CoKmagQukOb/', 'https://www.instagram.com/p/CnvO5nTjT1q/', 'https://www.instagram.com/p/Cnu9Vk2D-4N/', 'https://www.instagram.com/p/CnaUAKyjHKk/', 'https://www.instagram.com/p/Cm949TouwXP/', 'https://www.instagram.com/p/Cmwl6SiD9kM/', 'https://www.instagram.com/p/CmwirNfu8y2/', 'https://www.instagram.com/p/Clbhn8OugvO/', 'https://www.instagram.com/p/Ck_67leBHdk/', 'https://www.instagram.com/p/Cj5YF42OcM7/', 'https://www.instagram.com/p/CjyBqQ3OHbM/', 'https://www.instagram.com/p/Cjit5NRJlh7/', 'https://www.instagram.com/p/CjitnKKJlOY/', 'https://www.instagram.com/p/CjisT1oJsME/', 'https://www.instagram.com/p/CjirqNwp3oS/', 'https://www.instagram.com/p/CjeZDNkONU0/', 'https://www.instagram.com/p/CjNy9yCuodI/', 'https://www.instagram.com/p/CiJVkgXOlIM/', 'https://www.instagram.com/p/CgerOJErNxn/']\n"
     ]
    },
    {
     "name": "stdout",
     "output_type": "stream",
     "text": [
      "['https://www.instagram.com/p/CpF41OmuKJf/', 'https://www.instagram.com/p/CpDX01DuhC5/', 'https://www.instagram.com/p/CpBZTtDud2L/', 'https://www.instagram.com/p/Co-2cfJuK7N/', 'https://www.instagram.com/p/CogC6a6uAaQ/', 'https://www.instagram.com/p/CoKmagQukOb/', 'https://www.instagram.com/p/CnvO5nTjT1q/', 'https://www.instagram.com/p/Cnu9Vk2D-4N/', 'https://www.instagram.com/p/CnaUAKyjHKk/', 'https://www.instagram.com/p/Cm949TouwXP/', 'https://www.instagram.com/p/Cmwl6SiD9kM/', 'https://www.instagram.com/p/CmwirNfu8y2/', 'https://www.instagram.com/p/Clbhn8OugvO/', 'https://www.instagram.com/p/Ck_67leBHdk/', 'https://www.instagram.com/p/Cj5YF42OcM7/', 'https://www.instagram.com/p/CjyBqQ3OHbM/', 'https://www.instagram.com/p/Cjit5NRJlh7/', 'https://www.instagram.com/p/CjitnKKJlOY/', 'https://www.instagram.com/p/CjisT1oJsME/', 'https://www.instagram.com/p/CjirqNwp3oS/', 'https://www.instagram.com/p/CjeZDNkONU0/', 'https://www.instagram.com/p/CjNy9yCuodI/', 'https://www.instagram.com/p/CiJVkgXOlIM/', 'https://www.instagram.com/p/CgerOJErNxn/', 'https://www.instagram.com/p/Ce9rMprjLWP/']\n",
      "['https://www.instagram.com/p/CpF41OmuKJf/', 'https://www.instagram.com/p/CpDX01DuhC5/', 'https://www.instagram.com/p/CpBZTtDud2L/', 'https://www.instagram.com/p/Co-2cfJuK7N/', 'https://www.instagram.com/p/CogC6a6uAaQ/', 'https://www.instagram.com/p/CoKmagQukOb/', 'https://www.instagram.com/p/CnvO5nTjT1q/', 'https://www.instagram.com/p/Cnu9Vk2D-4N/', 'https://www.instagram.com/p/CnaUAKyjHKk/', 'https://www.instagram.com/p/Cm949TouwXP/', 'https://www.instagram.com/p/Cmwl6SiD9kM/', 'https://www.instagram.com/p/CmwirNfu8y2/', 'https://www.instagram.com/p/Clbhn8OugvO/', 'https://www.instagram.com/p/Ck_67leBHdk/', 'https://www.instagram.com/p/Cj5YF42OcM7/', 'https://www.instagram.com/p/CjyBqQ3OHbM/', 'https://www.instagram.com/p/Cjit5NRJlh7/', 'https://www.instagram.com/p/CjitnKKJlOY/', 'https://www.instagram.com/p/CjisT1oJsME/', 'https://www.instagram.com/p/CjirqNwp3oS/', 'https://www.instagram.com/p/CjeZDNkONU0/', 'https://www.instagram.com/p/CjNy9yCuodI/', 'https://www.instagram.com/p/CiJVkgXOlIM/', 'https://www.instagram.com/p/CgerOJErNxn/', 'https://www.instagram.com/p/Ce9rMprjLWP/', 'https://www.instagram.com/p/Ce9q8MHjkY7/']\n",
      "['https://www.instagram.com/p/CpF41OmuKJf/', 'https://www.instagram.com/p/CpDX01DuhC5/', 'https://www.instagram.com/p/CpBZTtDud2L/', 'https://www.instagram.com/p/Co-2cfJuK7N/', 'https://www.instagram.com/p/CogC6a6uAaQ/', 'https://www.instagram.com/p/CoKmagQukOb/', 'https://www.instagram.com/p/CnvO5nTjT1q/', 'https://www.instagram.com/p/Cnu9Vk2D-4N/', 'https://www.instagram.com/p/CnaUAKyjHKk/', 'https://www.instagram.com/p/Cm949TouwXP/', 'https://www.instagram.com/p/Cmwl6SiD9kM/', 'https://www.instagram.com/p/CmwirNfu8y2/', 'https://www.instagram.com/p/Clbhn8OugvO/', 'https://www.instagram.com/p/Ck_67leBHdk/', 'https://www.instagram.com/p/Cj5YF42OcM7/', 'https://www.instagram.com/p/CjyBqQ3OHbM/', 'https://www.instagram.com/p/Cjit5NRJlh7/', 'https://www.instagram.com/p/CjitnKKJlOY/', 'https://www.instagram.com/p/CjisT1oJsME/', 'https://www.instagram.com/p/CjirqNwp3oS/', 'https://www.instagram.com/p/CjeZDNkONU0/', 'https://www.instagram.com/p/CjNy9yCuodI/', 'https://www.instagram.com/p/CiJVkgXOlIM/', 'https://www.instagram.com/p/CgerOJErNxn/', 'https://www.instagram.com/p/Ce9rMprjLWP/', 'https://www.instagram.com/p/Ce9q8MHjkY7/', 'https://www.instagram.com/p/Ce2bCrdOA-7/']\n",
      "['https://www.instagram.com/p/CpF41OmuKJf/', 'https://www.instagram.com/p/CpDX01DuhC5/', 'https://www.instagram.com/p/CpBZTtDud2L/', 'https://www.instagram.com/p/Co-2cfJuK7N/', 'https://www.instagram.com/p/CogC6a6uAaQ/', 'https://www.instagram.com/p/CoKmagQukOb/', 'https://www.instagram.com/p/CnvO5nTjT1q/', 'https://www.instagram.com/p/Cnu9Vk2D-4N/', 'https://www.instagram.com/p/CnaUAKyjHKk/', 'https://www.instagram.com/p/Cm949TouwXP/', 'https://www.instagram.com/p/Cmwl6SiD9kM/', 'https://www.instagram.com/p/CmwirNfu8y2/', 'https://www.instagram.com/p/Clbhn8OugvO/', 'https://www.instagram.com/p/Ck_67leBHdk/', 'https://www.instagram.com/p/Cj5YF42OcM7/', 'https://www.instagram.com/p/CjyBqQ3OHbM/', 'https://www.instagram.com/p/Cjit5NRJlh7/', 'https://www.instagram.com/p/CjitnKKJlOY/', 'https://www.instagram.com/p/CjisT1oJsME/', 'https://www.instagram.com/p/CjirqNwp3oS/', 'https://www.instagram.com/p/CjeZDNkONU0/', 'https://www.instagram.com/p/CjNy9yCuodI/', 'https://www.instagram.com/p/CiJVkgXOlIM/', 'https://www.instagram.com/p/CgerOJErNxn/', 'https://www.instagram.com/p/Ce9rMprjLWP/', 'https://www.instagram.com/p/Ce9q8MHjkY7/', 'https://www.instagram.com/p/Ce2bCrdOA-7/', 'https://www.instagram.com/p/Ce2apQnjTd6/']\n",
      "['https://www.instagram.com/p/CpF41OmuKJf/', 'https://www.instagram.com/p/CpDX01DuhC5/', 'https://www.instagram.com/p/CpBZTtDud2L/', 'https://www.instagram.com/p/Co-2cfJuK7N/', 'https://www.instagram.com/p/CogC6a6uAaQ/', 'https://www.instagram.com/p/CoKmagQukOb/', 'https://www.instagram.com/p/CnvO5nTjT1q/', 'https://www.instagram.com/p/Cnu9Vk2D-4N/', 'https://www.instagram.com/p/CnaUAKyjHKk/', 'https://www.instagram.com/p/Cm949TouwXP/', 'https://www.instagram.com/p/Cmwl6SiD9kM/', 'https://www.instagram.com/p/CmwirNfu8y2/', 'https://www.instagram.com/p/Clbhn8OugvO/', 'https://www.instagram.com/p/Ck_67leBHdk/', 'https://www.instagram.com/p/Cj5YF42OcM7/', 'https://www.instagram.com/p/CjyBqQ3OHbM/', 'https://www.instagram.com/p/Cjit5NRJlh7/', 'https://www.instagram.com/p/CjitnKKJlOY/', 'https://www.instagram.com/p/CjisT1oJsME/', 'https://www.instagram.com/p/CjirqNwp3oS/', 'https://www.instagram.com/p/CjeZDNkONU0/', 'https://www.instagram.com/p/CjNy9yCuodI/', 'https://www.instagram.com/p/CiJVkgXOlIM/', 'https://www.instagram.com/p/CgerOJErNxn/', 'https://www.instagram.com/p/Ce9rMprjLWP/', 'https://www.instagram.com/p/Ce9q8MHjkY7/', 'https://www.instagram.com/p/Ce2bCrdOA-7/', 'https://www.instagram.com/p/Ce2apQnjTd6/', 'https://www.instagram.com/p/Ce2aLX1uqH9/']\n",
      "['https://www.instagram.com/p/CpF41OmuKJf/', 'https://www.instagram.com/p/CpDX01DuhC5/', 'https://www.instagram.com/p/CpBZTtDud2L/', 'https://www.instagram.com/p/Co-2cfJuK7N/', 'https://www.instagram.com/p/CogC6a6uAaQ/', 'https://www.instagram.com/p/CoKmagQukOb/', 'https://www.instagram.com/p/CnvO5nTjT1q/', 'https://www.instagram.com/p/Cnu9Vk2D-4N/', 'https://www.instagram.com/p/CnaUAKyjHKk/', 'https://www.instagram.com/p/Cm949TouwXP/', 'https://www.instagram.com/p/Cmwl6SiD9kM/', 'https://www.instagram.com/p/CmwirNfu8y2/', 'https://www.instagram.com/p/Clbhn8OugvO/', 'https://www.instagram.com/p/Ck_67leBHdk/', 'https://www.instagram.com/p/Cj5YF42OcM7/', 'https://www.instagram.com/p/CjyBqQ3OHbM/', 'https://www.instagram.com/p/Cjit5NRJlh7/', 'https://www.instagram.com/p/CjitnKKJlOY/', 'https://www.instagram.com/p/CjisT1oJsME/', 'https://www.instagram.com/p/CjirqNwp3oS/', 'https://www.instagram.com/p/CjeZDNkONU0/', 'https://www.instagram.com/p/CjNy9yCuodI/', 'https://www.instagram.com/p/CiJVkgXOlIM/', 'https://www.instagram.com/p/CgerOJErNxn/', 'https://www.instagram.com/p/Ce9rMprjLWP/', 'https://www.instagram.com/p/Ce9q8MHjkY7/', 'https://www.instagram.com/p/Ce2bCrdOA-7/', 'https://www.instagram.com/p/Ce2apQnjTd6/', 'https://www.instagram.com/p/Ce2aLX1uqH9/', 'https://www.instagram.com/p/CXkavjzjK2c/']\n",
      "['https://www.instagram.com/p/CpF41OmuKJf/', 'https://www.instagram.com/p/CpDX01DuhC5/', 'https://www.instagram.com/p/CpBZTtDud2L/', 'https://www.instagram.com/p/Co-2cfJuK7N/', 'https://www.instagram.com/p/CogC6a6uAaQ/', 'https://www.instagram.com/p/CoKmagQukOb/', 'https://www.instagram.com/p/CnvO5nTjT1q/', 'https://www.instagram.com/p/Cnu9Vk2D-4N/', 'https://www.instagram.com/p/CnaUAKyjHKk/', 'https://www.instagram.com/p/Cm949TouwXP/', 'https://www.instagram.com/p/Cmwl6SiD9kM/', 'https://www.instagram.com/p/CmwirNfu8y2/', 'https://www.instagram.com/p/Clbhn8OugvO/', 'https://www.instagram.com/p/Ck_67leBHdk/', 'https://www.instagram.com/p/Cj5YF42OcM7/', 'https://www.instagram.com/p/CjyBqQ3OHbM/', 'https://www.instagram.com/p/Cjit5NRJlh7/', 'https://www.instagram.com/p/CjitnKKJlOY/', 'https://www.instagram.com/p/CjisT1oJsME/', 'https://www.instagram.com/p/CjirqNwp3oS/', 'https://www.instagram.com/p/CjeZDNkONU0/', 'https://www.instagram.com/p/CjNy9yCuodI/', 'https://www.instagram.com/p/CiJVkgXOlIM/', 'https://www.instagram.com/p/CgerOJErNxn/', 'https://www.instagram.com/p/Ce9rMprjLWP/', 'https://www.instagram.com/p/Ce9q8MHjkY7/', 'https://www.instagram.com/p/Ce2bCrdOA-7/', 'https://www.instagram.com/p/Ce2apQnjTd6/', 'https://www.instagram.com/p/Ce2aLX1uqH9/', 'https://www.instagram.com/p/CXkavjzjK2c/', 'https://www.instagram.com/p/CXkU2idDozf/']\n",
      "['https://www.instagram.com/p/CpF41OmuKJf/', 'https://www.instagram.com/p/CpDX01DuhC5/', 'https://www.instagram.com/p/CpBZTtDud2L/', 'https://www.instagram.com/p/Co-2cfJuK7N/', 'https://www.instagram.com/p/CogC6a6uAaQ/', 'https://www.instagram.com/p/CoKmagQukOb/', 'https://www.instagram.com/p/CnvO5nTjT1q/', 'https://www.instagram.com/p/Cnu9Vk2D-4N/', 'https://www.instagram.com/p/CnaUAKyjHKk/', 'https://www.instagram.com/p/Cm949TouwXP/', 'https://www.instagram.com/p/Cmwl6SiD9kM/', 'https://www.instagram.com/p/CmwirNfu8y2/', 'https://www.instagram.com/p/Clbhn8OugvO/', 'https://www.instagram.com/p/Ck_67leBHdk/', 'https://www.instagram.com/p/Cj5YF42OcM7/', 'https://www.instagram.com/p/CjyBqQ3OHbM/', 'https://www.instagram.com/p/Cjit5NRJlh7/', 'https://www.instagram.com/p/CjitnKKJlOY/', 'https://www.instagram.com/p/CjisT1oJsME/', 'https://www.instagram.com/p/CjirqNwp3oS/', 'https://www.instagram.com/p/CjeZDNkONU0/', 'https://www.instagram.com/p/CjNy9yCuodI/', 'https://www.instagram.com/p/CiJVkgXOlIM/', 'https://www.instagram.com/p/CgerOJErNxn/', 'https://www.instagram.com/p/Ce9rMprjLWP/', 'https://www.instagram.com/p/Ce9q8MHjkY7/', 'https://www.instagram.com/p/Ce2bCrdOA-7/', 'https://www.instagram.com/p/Ce2apQnjTd6/', 'https://www.instagram.com/p/Ce2aLX1uqH9/', 'https://www.instagram.com/p/CXkavjzjK2c/', 'https://www.instagram.com/p/CXkU2idDozf/', 'https://www.instagram.com/p/CO6JvBlpzo_/']\n",
      "['https://www.instagram.com/p/CpF41OmuKJf/', 'https://www.instagram.com/p/CpDX01DuhC5/', 'https://www.instagram.com/p/CpBZTtDud2L/', 'https://www.instagram.com/p/Co-2cfJuK7N/', 'https://www.instagram.com/p/CogC6a6uAaQ/', 'https://www.instagram.com/p/CoKmagQukOb/', 'https://www.instagram.com/p/CnvO5nTjT1q/', 'https://www.instagram.com/p/Cnu9Vk2D-4N/', 'https://www.instagram.com/p/CnaUAKyjHKk/', 'https://www.instagram.com/p/Cm949TouwXP/', 'https://www.instagram.com/p/Cmwl6SiD9kM/', 'https://www.instagram.com/p/CmwirNfu8y2/', 'https://www.instagram.com/p/Clbhn8OugvO/', 'https://www.instagram.com/p/Ck_67leBHdk/', 'https://www.instagram.com/p/Cj5YF42OcM7/', 'https://www.instagram.com/p/CjyBqQ3OHbM/', 'https://www.instagram.com/p/Cjit5NRJlh7/', 'https://www.instagram.com/p/CjitnKKJlOY/', 'https://www.instagram.com/p/CjisT1oJsME/', 'https://www.instagram.com/p/CjirqNwp3oS/', 'https://www.instagram.com/p/CjeZDNkONU0/', 'https://www.instagram.com/p/CjNy9yCuodI/', 'https://www.instagram.com/p/CiJVkgXOlIM/', 'https://www.instagram.com/p/CgerOJErNxn/', 'https://www.instagram.com/p/Ce9rMprjLWP/', 'https://www.instagram.com/p/Ce9q8MHjkY7/', 'https://www.instagram.com/p/Ce2bCrdOA-7/', 'https://www.instagram.com/p/Ce2apQnjTd6/', 'https://www.instagram.com/p/Ce2aLX1uqH9/', 'https://www.instagram.com/p/CXkavjzjK2c/', 'https://www.instagram.com/p/CXkU2idDozf/', 'https://www.instagram.com/p/CO6JvBlpzo_/']\n",
      "['https://www.instagram.com/p/CpF41OmuKJf/', 'https://www.instagram.com/p/CpDX01DuhC5/', 'https://www.instagram.com/p/CpBZTtDud2L/', 'https://www.instagram.com/p/Co-2cfJuK7N/', 'https://www.instagram.com/p/CogC6a6uAaQ/', 'https://www.instagram.com/p/CoKmagQukOb/', 'https://www.instagram.com/p/CnvO5nTjT1q/', 'https://www.instagram.com/p/Cnu9Vk2D-4N/', 'https://www.instagram.com/p/CnaUAKyjHKk/', 'https://www.instagram.com/p/Cm949TouwXP/', 'https://www.instagram.com/p/Cmwl6SiD9kM/', 'https://www.instagram.com/p/CmwirNfu8y2/', 'https://www.instagram.com/p/Clbhn8OugvO/', 'https://www.instagram.com/p/Ck_67leBHdk/', 'https://www.instagram.com/p/Cj5YF42OcM7/', 'https://www.instagram.com/p/CjyBqQ3OHbM/', 'https://www.instagram.com/p/Cjit5NRJlh7/', 'https://www.instagram.com/p/CjitnKKJlOY/', 'https://www.instagram.com/p/CjisT1oJsME/', 'https://www.instagram.com/p/CjirqNwp3oS/', 'https://www.instagram.com/p/CjeZDNkONU0/', 'https://www.instagram.com/p/CjNy9yCuodI/', 'https://www.instagram.com/p/CiJVkgXOlIM/', 'https://www.instagram.com/p/CgerOJErNxn/', 'https://www.instagram.com/p/Ce9rMprjLWP/', 'https://www.instagram.com/p/Ce9q8MHjkY7/', 'https://www.instagram.com/p/Ce2bCrdOA-7/', 'https://www.instagram.com/p/Ce2apQnjTd6/', 'https://www.instagram.com/p/Ce2aLX1uqH9/', 'https://www.instagram.com/p/CXkavjzjK2c/', 'https://www.instagram.com/p/CXkU2idDozf/', 'https://www.instagram.com/p/CO6JvBlpzo_/']\n"
     ]
    },
    {
     "name": "stdout",
     "output_type": "stream",
     "text": [
      "['https://www.instagram.com/p/CpF41OmuKJf/', 'https://www.instagram.com/p/CpDX01DuhC5/', 'https://www.instagram.com/p/CpBZTtDud2L/', 'https://www.instagram.com/p/Co-2cfJuK7N/', 'https://www.instagram.com/p/CogC6a6uAaQ/', 'https://www.instagram.com/p/CoKmagQukOb/', 'https://www.instagram.com/p/CnvO5nTjT1q/', 'https://www.instagram.com/p/Cnu9Vk2D-4N/', 'https://www.instagram.com/p/CnaUAKyjHKk/', 'https://www.instagram.com/p/Cm949TouwXP/', 'https://www.instagram.com/p/Cmwl6SiD9kM/', 'https://www.instagram.com/p/CmwirNfu8y2/', 'https://www.instagram.com/p/Clbhn8OugvO/', 'https://www.instagram.com/p/Ck_67leBHdk/', 'https://www.instagram.com/p/Cj5YF42OcM7/', 'https://www.instagram.com/p/CjyBqQ3OHbM/', 'https://www.instagram.com/p/Cjit5NRJlh7/', 'https://www.instagram.com/p/CjitnKKJlOY/', 'https://www.instagram.com/p/CjisT1oJsME/', 'https://www.instagram.com/p/CjirqNwp3oS/', 'https://www.instagram.com/p/CjeZDNkONU0/', 'https://www.instagram.com/p/CjNy9yCuodI/', 'https://www.instagram.com/p/CiJVkgXOlIM/', 'https://www.instagram.com/p/CgerOJErNxn/', 'https://www.instagram.com/p/Ce9rMprjLWP/', 'https://www.instagram.com/p/Ce9q8MHjkY7/', 'https://www.instagram.com/p/Ce2bCrdOA-7/', 'https://www.instagram.com/p/Ce2apQnjTd6/', 'https://www.instagram.com/p/Ce2aLX1uqH9/', 'https://www.instagram.com/p/CXkavjzjK2c/', 'https://www.instagram.com/p/CXkU2idDozf/', 'https://www.instagram.com/p/CO6JvBlpzo_/']\n",
      "['https://www.instagram.com/p/CpF41OmuKJf/', 'https://www.instagram.com/p/CpDX01DuhC5/', 'https://www.instagram.com/p/CpBZTtDud2L/', 'https://www.instagram.com/p/Co-2cfJuK7N/', 'https://www.instagram.com/p/CogC6a6uAaQ/', 'https://www.instagram.com/p/CoKmagQukOb/', 'https://www.instagram.com/p/CnvO5nTjT1q/', 'https://www.instagram.com/p/Cnu9Vk2D-4N/', 'https://www.instagram.com/p/CnaUAKyjHKk/', 'https://www.instagram.com/p/Cm949TouwXP/', 'https://www.instagram.com/p/Cmwl6SiD9kM/', 'https://www.instagram.com/p/CmwirNfu8y2/', 'https://www.instagram.com/p/Clbhn8OugvO/', 'https://www.instagram.com/p/Ck_67leBHdk/', 'https://www.instagram.com/p/Cj5YF42OcM7/', 'https://www.instagram.com/p/CjyBqQ3OHbM/', 'https://www.instagram.com/p/Cjit5NRJlh7/', 'https://www.instagram.com/p/CjitnKKJlOY/', 'https://www.instagram.com/p/CjisT1oJsME/', 'https://www.instagram.com/p/CjirqNwp3oS/', 'https://www.instagram.com/p/CjeZDNkONU0/', 'https://www.instagram.com/p/CjNy9yCuodI/', 'https://www.instagram.com/p/CiJVkgXOlIM/', 'https://www.instagram.com/p/CgerOJErNxn/', 'https://www.instagram.com/p/Ce9rMprjLWP/', 'https://www.instagram.com/p/Ce9q8MHjkY7/', 'https://www.instagram.com/p/Ce2bCrdOA-7/', 'https://www.instagram.com/p/Ce2apQnjTd6/', 'https://www.instagram.com/p/Ce2aLX1uqH9/', 'https://www.instagram.com/p/CXkavjzjK2c/', 'https://www.instagram.com/p/CXkU2idDozf/', 'https://www.instagram.com/p/CO6JvBlpzo_/']\n",
      "['https://www.instagram.com/p/CpF41OmuKJf/', 'https://www.instagram.com/p/CpDX01DuhC5/', 'https://www.instagram.com/p/CpBZTtDud2L/', 'https://www.instagram.com/p/Co-2cfJuK7N/', 'https://www.instagram.com/p/CogC6a6uAaQ/', 'https://www.instagram.com/p/CoKmagQukOb/', 'https://www.instagram.com/p/CnvO5nTjT1q/', 'https://www.instagram.com/p/Cnu9Vk2D-4N/', 'https://www.instagram.com/p/CnaUAKyjHKk/', 'https://www.instagram.com/p/Cm949TouwXP/', 'https://www.instagram.com/p/Cmwl6SiD9kM/', 'https://www.instagram.com/p/CmwirNfu8y2/', 'https://www.instagram.com/p/Clbhn8OugvO/', 'https://www.instagram.com/p/Ck_67leBHdk/', 'https://www.instagram.com/p/Cj5YF42OcM7/', 'https://www.instagram.com/p/CjyBqQ3OHbM/', 'https://www.instagram.com/p/Cjit5NRJlh7/', 'https://www.instagram.com/p/CjitnKKJlOY/', 'https://www.instagram.com/p/CjisT1oJsME/', 'https://www.instagram.com/p/CjirqNwp3oS/', 'https://www.instagram.com/p/CjeZDNkONU0/', 'https://www.instagram.com/p/CjNy9yCuodI/', 'https://www.instagram.com/p/CiJVkgXOlIM/', 'https://www.instagram.com/p/CgerOJErNxn/', 'https://www.instagram.com/p/Ce9rMprjLWP/', 'https://www.instagram.com/p/Ce9q8MHjkY7/', 'https://www.instagram.com/p/Ce2bCrdOA-7/', 'https://www.instagram.com/p/Ce2apQnjTd6/', 'https://www.instagram.com/p/Ce2aLX1uqH9/', 'https://www.instagram.com/p/CXkavjzjK2c/', 'https://www.instagram.com/p/CXkU2idDozf/', 'https://www.instagram.com/p/CO6JvBlpzo_/']\n",
      "['https://www.instagram.com/p/CpF41OmuKJf/', 'https://www.instagram.com/p/CpDX01DuhC5/', 'https://www.instagram.com/p/CpBZTtDud2L/', 'https://www.instagram.com/p/Co-2cfJuK7N/', 'https://www.instagram.com/p/CogC6a6uAaQ/', 'https://www.instagram.com/p/CoKmagQukOb/', 'https://www.instagram.com/p/CnvO5nTjT1q/', 'https://www.instagram.com/p/Cnu9Vk2D-4N/', 'https://www.instagram.com/p/CnaUAKyjHKk/', 'https://www.instagram.com/p/Cm949TouwXP/', 'https://www.instagram.com/p/Cmwl6SiD9kM/', 'https://www.instagram.com/p/CmwirNfu8y2/', 'https://www.instagram.com/p/Clbhn8OugvO/', 'https://www.instagram.com/p/Ck_67leBHdk/', 'https://www.instagram.com/p/Cj5YF42OcM7/', 'https://www.instagram.com/p/CjyBqQ3OHbM/', 'https://www.instagram.com/p/Cjit5NRJlh7/', 'https://www.instagram.com/p/CjitnKKJlOY/', 'https://www.instagram.com/p/CjisT1oJsME/', 'https://www.instagram.com/p/CjirqNwp3oS/', 'https://www.instagram.com/p/CjeZDNkONU0/', 'https://www.instagram.com/p/CjNy9yCuodI/', 'https://www.instagram.com/p/CiJVkgXOlIM/', 'https://www.instagram.com/p/CgerOJErNxn/', 'https://www.instagram.com/p/Ce9rMprjLWP/', 'https://www.instagram.com/p/Ce9q8MHjkY7/', 'https://www.instagram.com/p/Ce2bCrdOA-7/', 'https://www.instagram.com/p/Ce2apQnjTd6/', 'https://www.instagram.com/p/Ce2aLX1uqH9/', 'https://www.instagram.com/p/CXkavjzjK2c/', 'https://www.instagram.com/p/CXkU2idDozf/', 'https://www.instagram.com/p/CO6JvBlpzo_/']\n",
      "['https://www.instagram.com/p/CpF41OmuKJf/', 'https://www.instagram.com/p/CpDX01DuhC5/', 'https://www.instagram.com/p/CpBZTtDud2L/', 'https://www.instagram.com/p/Co-2cfJuK7N/', 'https://www.instagram.com/p/CogC6a6uAaQ/', 'https://www.instagram.com/p/CoKmagQukOb/', 'https://www.instagram.com/p/CnvO5nTjT1q/', 'https://www.instagram.com/p/Cnu9Vk2D-4N/', 'https://www.instagram.com/p/CnaUAKyjHKk/', 'https://www.instagram.com/p/Cm949TouwXP/', 'https://www.instagram.com/p/Cmwl6SiD9kM/', 'https://www.instagram.com/p/CmwirNfu8y2/', 'https://www.instagram.com/p/Clbhn8OugvO/', 'https://www.instagram.com/p/Ck_67leBHdk/', 'https://www.instagram.com/p/Cj5YF42OcM7/', 'https://www.instagram.com/p/CjyBqQ3OHbM/', 'https://www.instagram.com/p/Cjit5NRJlh7/', 'https://www.instagram.com/p/CjitnKKJlOY/', 'https://www.instagram.com/p/CjisT1oJsME/', 'https://www.instagram.com/p/CjirqNwp3oS/', 'https://www.instagram.com/p/CjeZDNkONU0/', 'https://www.instagram.com/p/CjNy9yCuodI/', 'https://www.instagram.com/p/CiJVkgXOlIM/', 'https://www.instagram.com/p/CgerOJErNxn/', 'https://www.instagram.com/p/Ce9rMprjLWP/', 'https://www.instagram.com/p/Ce9q8MHjkY7/', 'https://www.instagram.com/p/Ce2bCrdOA-7/', 'https://www.instagram.com/p/Ce2apQnjTd6/', 'https://www.instagram.com/p/Ce2aLX1uqH9/', 'https://www.instagram.com/p/CXkavjzjK2c/', 'https://www.instagram.com/p/CXkU2idDozf/', 'https://www.instagram.com/p/CO6JvBlpzo_/']\n",
      "['https://www.instagram.com/p/CpF41OmuKJf/', 'https://www.instagram.com/p/CpDX01DuhC5/', 'https://www.instagram.com/p/CpBZTtDud2L/', 'https://www.instagram.com/p/Co-2cfJuK7N/', 'https://www.instagram.com/p/CogC6a6uAaQ/', 'https://www.instagram.com/p/CoKmagQukOb/', 'https://www.instagram.com/p/CnvO5nTjT1q/', 'https://www.instagram.com/p/Cnu9Vk2D-4N/', 'https://www.instagram.com/p/CnaUAKyjHKk/', 'https://www.instagram.com/p/Cm949TouwXP/', 'https://www.instagram.com/p/Cmwl6SiD9kM/', 'https://www.instagram.com/p/CmwirNfu8y2/', 'https://www.instagram.com/p/Clbhn8OugvO/', 'https://www.instagram.com/p/Ck_67leBHdk/', 'https://www.instagram.com/p/Cj5YF42OcM7/', 'https://www.instagram.com/p/CjyBqQ3OHbM/', 'https://www.instagram.com/p/Cjit5NRJlh7/', 'https://www.instagram.com/p/CjitnKKJlOY/', 'https://www.instagram.com/p/CjisT1oJsME/', 'https://www.instagram.com/p/CjirqNwp3oS/', 'https://www.instagram.com/p/CjeZDNkONU0/', 'https://www.instagram.com/p/CjNy9yCuodI/', 'https://www.instagram.com/p/CiJVkgXOlIM/', 'https://www.instagram.com/p/CgerOJErNxn/', 'https://www.instagram.com/p/Ce9rMprjLWP/', 'https://www.instagram.com/p/Ce9q8MHjkY7/', 'https://www.instagram.com/p/Ce2bCrdOA-7/', 'https://www.instagram.com/p/Ce2apQnjTd6/', 'https://www.instagram.com/p/Ce2aLX1uqH9/', 'https://www.instagram.com/p/CXkavjzjK2c/', 'https://www.instagram.com/p/CXkU2idDozf/', 'https://www.instagram.com/p/CO6JvBlpzo_/']\n",
      "['https://www.instagram.com/p/CpF41OmuKJf/', 'https://www.instagram.com/p/CpDX01DuhC5/', 'https://www.instagram.com/p/CpBZTtDud2L/', 'https://www.instagram.com/p/Co-2cfJuK7N/', 'https://www.instagram.com/p/CogC6a6uAaQ/', 'https://www.instagram.com/p/CoKmagQukOb/', 'https://www.instagram.com/p/CnvO5nTjT1q/', 'https://www.instagram.com/p/Cnu9Vk2D-4N/', 'https://www.instagram.com/p/CnaUAKyjHKk/', 'https://www.instagram.com/p/Cm949TouwXP/', 'https://www.instagram.com/p/Cmwl6SiD9kM/', 'https://www.instagram.com/p/CmwirNfu8y2/', 'https://www.instagram.com/p/Clbhn8OugvO/', 'https://www.instagram.com/p/Ck_67leBHdk/', 'https://www.instagram.com/p/Cj5YF42OcM7/', 'https://www.instagram.com/p/CjyBqQ3OHbM/', 'https://www.instagram.com/p/Cjit5NRJlh7/', 'https://www.instagram.com/p/CjitnKKJlOY/', 'https://www.instagram.com/p/CjisT1oJsME/', 'https://www.instagram.com/p/CjirqNwp3oS/', 'https://www.instagram.com/p/CjeZDNkONU0/', 'https://www.instagram.com/p/CjNy9yCuodI/', 'https://www.instagram.com/p/CiJVkgXOlIM/', 'https://www.instagram.com/p/CgerOJErNxn/', 'https://www.instagram.com/p/Ce9rMprjLWP/', 'https://www.instagram.com/p/Ce9q8MHjkY7/', 'https://www.instagram.com/p/Ce2bCrdOA-7/', 'https://www.instagram.com/p/Ce2apQnjTd6/', 'https://www.instagram.com/p/Ce2aLX1uqH9/', 'https://www.instagram.com/p/CXkavjzjK2c/', 'https://www.instagram.com/p/CXkU2idDozf/', 'https://www.instagram.com/p/CO6JvBlpzo_/']\n",
      "['https://www.instagram.com/p/CpF41OmuKJf/', 'https://www.instagram.com/p/CpDX01DuhC5/', 'https://www.instagram.com/p/CpBZTtDud2L/', 'https://www.instagram.com/p/Co-2cfJuK7N/', 'https://www.instagram.com/p/CogC6a6uAaQ/', 'https://www.instagram.com/p/CoKmagQukOb/', 'https://www.instagram.com/p/CnvO5nTjT1q/', 'https://www.instagram.com/p/Cnu9Vk2D-4N/', 'https://www.instagram.com/p/CnaUAKyjHKk/', 'https://www.instagram.com/p/Cm949TouwXP/', 'https://www.instagram.com/p/Cmwl6SiD9kM/', 'https://www.instagram.com/p/CmwirNfu8y2/', 'https://www.instagram.com/p/Clbhn8OugvO/', 'https://www.instagram.com/p/Ck_67leBHdk/', 'https://www.instagram.com/p/Cj5YF42OcM7/', 'https://www.instagram.com/p/CjyBqQ3OHbM/', 'https://www.instagram.com/p/Cjit5NRJlh7/', 'https://www.instagram.com/p/CjitnKKJlOY/', 'https://www.instagram.com/p/CjisT1oJsME/', 'https://www.instagram.com/p/CjirqNwp3oS/', 'https://www.instagram.com/p/CjeZDNkONU0/', 'https://www.instagram.com/p/CjNy9yCuodI/', 'https://www.instagram.com/p/CiJVkgXOlIM/', 'https://www.instagram.com/p/CgerOJErNxn/', 'https://www.instagram.com/p/Ce9rMprjLWP/', 'https://www.instagram.com/p/Ce9q8MHjkY7/', 'https://www.instagram.com/p/Ce2bCrdOA-7/', 'https://www.instagram.com/p/Ce2apQnjTd6/', 'https://www.instagram.com/p/Ce2aLX1uqH9/', 'https://www.instagram.com/p/CXkavjzjK2c/', 'https://www.instagram.com/p/CXkU2idDozf/', 'https://www.instagram.com/p/CO6JvBlpzo_/']\n",
      "['https://www.instagram.com/p/CpF41OmuKJf/', 'https://www.instagram.com/p/CpDX01DuhC5/', 'https://www.instagram.com/p/CpBZTtDud2L/', 'https://www.instagram.com/p/Co-2cfJuK7N/', 'https://www.instagram.com/p/CogC6a6uAaQ/', 'https://www.instagram.com/p/CoKmagQukOb/', 'https://www.instagram.com/p/CnvO5nTjT1q/', 'https://www.instagram.com/p/Cnu9Vk2D-4N/', 'https://www.instagram.com/p/CnaUAKyjHKk/', 'https://www.instagram.com/p/Cm949TouwXP/', 'https://www.instagram.com/p/Cmwl6SiD9kM/', 'https://www.instagram.com/p/CmwirNfu8y2/', 'https://www.instagram.com/p/Clbhn8OugvO/', 'https://www.instagram.com/p/Ck_67leBHdk/', 'https://www.instagram.com/p/Cj5YF42OcM7/', 'https://www.instagram.com/p/CjyBqQ3OHbM/', 'https://www.instagram.com/p/Cjit5NRJlh7/', 'https://www.instagram.com/p/CjitnKKJlOY/', 'https://www.instagram.com/p/CjisT1oJsME/', 'https://www.instagram.com/p/CjirqNwp3oS/', 'https://www.instagram.com/p/CjeZDNkONU0/', 'https://www.instagram.com/p/CjNy9yCuodI/', 'https://www.instagram.com/p/CiJVkgXOlIM/', 'https://www.instagram.com/p/CgerOJErNxn/', 'https://www.instagram.com/p/Ce9rMprjLWP/', 'https://www.instagram.com/p/Ce9q8MHjkY7/', 'https://www.instagram.com/p/Ce2bCrdOA-7/', 'https://www.instagram.com/p/Ce2apQnjTd6/', 'https://www.instagram.com/p/Ce2aLX1uqH9/', 'https://www.instagram.com/p/CXkavjzjK2c/', 'https://www.instagram.com/p/CXkU2idDozf/', 'https://www.instagram.com/p/CO6JvBlpzo_/']\n"
     ]
    },
    {
     "name": "stdout",
     "output_type": "stream",
     "text": [
      "['https://www.instagram.com/p/CpF41OmuKJf/', 'https://www.instagram.com/p/CpDX01DuhC5/', 'https://www.instagram.com/p/CpBZTtDud2L/', 'https://www.instagram.com/p/Co-2cfJuK7N/', 'https://www.instagram.com/p/CogC6a6uAaQ/', 'https://www.instagram.com/p/CoKmagQukOb/', 'https://www.instagram.com/p/CnvO5nTjT1q/', 'https://www.instagram.com/p/Cnu9Vk2D-4N/', 'https://www.instagram.com/p/CnaUAKyjHKk/', 'https://www.instagram.com/p/Cm949TouwXP/', 'https://www.instagram.com/p/Cmwl6SiD9kM/', 'https://www.instagram.com/p/CmwirNfu8y2/', 'https://www.instagram.com/p/Clbhn8OugvO/', 'https://www.instagram.com/p/Ck_67leBHdk/', 'https://www.instagram.com/p/Cj5YF42OcM7/', 'https://www.instagram.com/p/CjyBqQ3OHbM/', 'https://www.instagram.com/p/Cjit5NRJlh7/', 'https://www.instagram.com/p/CjitnKKJlOY/', 'https://www.instagram.com/p/CjisT1oJsME/', 'https://www.instagram.com/p/CjirqNwp3oS/', 'https://www.instagram.com/p/CjeZDNkONU0/', 'https://www.instagram.com/p/CjNy9yCuodI/', 'https://www.instagram.com/p/CiJVkgXOlIM/', 'https://www.instagram.com/p/CgerOJErNxn/', 'https://www.instagram.com/p/Ce9rMprjLWP/', 'https://www.instagram.com/p/Ce9q8MHjkY7/', 'https://www.instagram.com/p/Ce2bCrdOA-7/', 'https://www.instagram.com/p/Ce2apQnjTd6/', 'https://www.instagram.com/p/Ce2aLX1uqH9/', 'https://www.instagram.com/p/CXkavjzjK2c/', 'https://www.instagram.com/p/CXkU2idDozf/', 'https://www.instagram.com/p/CO6JvBlpzo_/']\n",
      "['https://www.instagram.com/p/CpF41OmuKJf/', 'https://www.instagram.com/p/CpDX01DuhC5/', 'https://www.instagram.com/p/CpBZTtDud2L/', 'https://www.instagram.com/p/Co-2cfJuK7N/', 'https://www.instagram.com/p/CogC6a6uAaQ/', 'https://www.instagram.com/p/CoKmagQukOb/', 'https://www.instagram.com/p/CnvO5nTjT1q/', 'https://www.instagram.com/p/Cnu9Vk2D-4N/', 'https://www.instagram.com/p/CnaUAKyjHKk/', 'https://www.instagram.com/p/Cm949TouwXP/', 'https://www.instagram.com/p/Cmwl6SiD9kM/', 'https://www.instagram.com/p/CmwirNfu8y2/', 'https://www.instagram.com/p/Clbhn8OugvO/', 'https://www.instagram.com/p/Ck_67leBHdk/', 'https://www.instagram.com/p/Cj5YF42OcM7/', 'https://www.instagram.com/p/CjyBqQ3OHbM/', 'https://www.instagram.com/p/Cjit5NRJlh7/', 'https://www.instagram.com/p/CjitnKKJlOY/', 'https://www.instagram.com/p/CjisT1oJsME/', 'https://www.instagram.com/p/CjirqNwp3oS/', 'https://www.instagram.com/p/CjeZDNkONU0/', 'https://www.instagram.com/p/CjNy9yCuodI/', 'https://www.instagram.com/p/CiJVkgXOlIM/', 'https://www.instagram.com/p/CgerOJErNxn/', 'https://www.instagram.com/p/Ce9rMprjLWP/', 'https://www.instagram.com/p/Ce9q8MHjkY7/', 'https://www.instagram.com/p/Ce2bCrdOA-7/', 'https://www.instagram.com/p/Ce2apQnjTd6/', 'https://www.instagram.com/p/Ce2aLX1uqH9/', 'https://www.instagram.com/p/CXkavjzjK2c/', 'https://www.instagram.com/p/CXkU2idDozf/', 'https://www.instagram.com/p/CO6JvBlpzo_/']\n"
     ]
    }
   ],
   "source": [
    "sleep(4) #para que carguen correctamente los elementos\n",
    "#ahora haremos un append para guardar todas las url de las imagenes del perfil\n",
    "posts = []\n",
    "links = driver.find_elements(\"tag name\", \"a\")\n",
    "for link in links:\n",
    "    post = link.get_attribute('href')\n",
    "    if '/p/' in post: # todos los elementos de instagram parent con un /p/ antes de cada post\n",
    "        posts.append(post)\n",
    "        \n",
    "    print (posts)"
   ]
  },
  {
   "cell_type": "code",
   "execution_count": null,
   "id": "3a702d4a",
   "metadata": {},
   "outputs": [],
   "source": [
    "# obteniendo videos e imagenes\n",
    "download_url = ''\n",
    "for post in posts:\n",
    "    driver.get(post)\n",
    "    shortcode = driver.current_url.split(\"/\")[-2]\n",
    "    sleep(4)\n",
    "    \n",
    "    #si el elemento es imagen lo toma del selector img del css\n",
    "    if driver.find_element(\"css selector\", \"img[style='object-fit: cover;']\") is not None:\n",
    "        download_url = driver.find_element(\n",
    "            \"css selector\", \"img[style='object-fit: cover;']\").get_attribute('src')\n",
    "        urllib.request.urlretrieve(download_url, '{}.jpg'.format(shortcode))\n",
    "    # de lo contrario lo toma desde el css selector de tipo video\n",
    "    else:\n",
    "        download_url = driver.find_element(\n",
    "            \"css selector\", \"video[type='video/mp4']\").get_attribute('src')\n",
    "        urllib.request.urlretrieve(download_url, '{}.mp4'.format(shortcode))\n",
    "    sleep(4)"
   ]
  },
  {
   "cell_type": "code",
   "execution_count": null,
   "id": "060b3307",
   "metadata": {},
   "outputs": [],
   "source": []
  }
 ],
 "metadata": {
  "kernelspec": {
   "display_name": "Python 3 (ipykernel)",
   "language": "python",
   "name": "python3"
  },
  "language_info": {
   "codemirror_mode": {
    "name": "ipython",
    "version": 3
   },
   "file_extension": ".py",
   "mimetype": "text/x-python",
   "name": "python",
   "nbconvert_exporter": "python",
   "pygments_lexer": "ipython3",
   "version": "3.9.7"
  }
 },
 "nbformat": 4,
 "nbformat_minor": 5
}
